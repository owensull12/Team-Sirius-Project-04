{
 "cells": [
  {
   "cell_type": "code",
   "execution_count": 1,
   "id": "680ccd09-6fe9-49b3-bed1-6cff066b0b07",
   "metadata": {
    "id": "680ccd09-6fe9-49b3-bed1-6cff066b0b07"
   },
   "outputs": [],
   "source": [
    "import pandas as pd"
   ]
  },
  {
   "cell_type": "code",
   "execution_count": 2,
   "id": "c2a98e6c-a7aa-45e8-9add-09012a9818e3",
   "metadata": {
    "colab": {
     "base_uri": "https://localhost:8080/",
     "height": 342
    },
    "id": "c2a98e6c-a7aa-45e8-9add-09012a9818e3",
    "outputId": "d5bf9c9a-dd85-4f43-9c11-26ec7034f6b4"
   },
   "outputs": [
    {
     "data": {
      "text/html": [
       "<div>\n",
       "<style scoped>\n",
       "    .dataframe tbody tr th:only-of-type {\n",
       "        vertical-align: middle;\n",
       "    }\n",
       "\n",
       "    .dataframe tbody tr th {\n",
       "        vertical-align: top;\n",
       "    }\n",
       "\n",
       "    .dataframe thead th {\n",
       "        text-align: right;\n",
       "    }\n",
       "</style>\n",
       "<table border=\"1\" class=\"dataframe\">\n",
       "  <thead>\n",
       "    <tr style=\"text-align: right;\">\n",
       "      <th></th>\n",
       "      <th>id</th>\n",
       "      <th>member_id</th>\n",
       "      <th>loan_amnt</th>\n",
       "      <th>funded_amnt</th>\n",
       "      <th>funded_amnt_inv</th>\n",
       "      <th>term</th>\n",
       "      <th>int_rate</th>\n",
       "      <th>installment</th>\n",
       "      <th>grade</th>\n",
       "      <th>sub_grade</th>\n",
       "      <th>...</th>\n",
       "      <th>hardship_payoff_balance_amount</th>\n",
       "      <th>hardship_last_payment_amount</th>\n",
       "      <th>disbursement_method</th>\n",
       "      <th>debt_settlement_flag</th>\n",
       "      <th>debt_settlement_flag_date</th>\n",
       "      <th>settlement_status</th>\n",
       "      <th>settlement_date</th>\n",
       "      <th>settlement_amount</th>\n",
       "      <th>settlement_percentage</th>\n",
       "      <th>settlement_term</th>\n",
       "    </tr>\n",
       "  </thead>\n",
       "  <tbody>\n",
       "    <tr>\n",
       "      <th>0</th>\n",
       "      <td>NaN</td>\n",
       "      <td>NaN</td>\n",
       "      <td>2500</td>\n",
       "      <td>2500</td>\n",
       "      <td>2500.0</td>\n",
       "      <td>36 months</td>\n",
       "      <td>13.56</td>\n",
       "      <td>84.92</td>\n",
       "      <td>C</td>\n",
       "      <td>C1</td>\n",
       "      <td>...</td>\n",
       "      <td>NaN</td>\n",
       "      <td>NaN</td>\n",
       "      <td>Cash</td>\n",
       "      <td>N</td>\n",
       "      <td>NaN</td>\n",
       "      <td>NaN</td>\n",
       "      <td>NaN</td>\n",
       "      <td>NaN</td>\n",
       "      <td>NaN</td>\n",
       "      <td>NaN</td>\n",
       "    </tr>\n",
       "    <tr>\n",
       "      <th>1</th>\n",
       "      <td>NaN</td>\n",
       "      <td>NaN</td>\n",
       "      <td>30000</td>\n",
       "      <td>30000</td>\n",
       "      <td>30000.0</td>\n",
       "      <td>60 months</td>\n",
       "      <td>18.94</td>\n",
       "      <td>777.23</td>\n",
       "      <td>D</td>\n",
       "      <td>D2</td>\n",
       "      <td>...</td>\n",
       "      <td>NaN</td>\n",
       "      <td>NaN</td>\n",
       "      <td>Cash</td>\n",
       "      <td>N</td>\n",
       "      <td>NaN</td>\n",
       "      <td>NaN</td>\n",
       "      <td>NaN</td>\n",
       "      <td>NaN</td>\n",
       "      <td>NaN</td>\n",
       "      <td>NaN</td>\n",
       "    </tr>\n",
       "    <tr>\n",
       "      <th>2</th>\n",
       "      <td>NaN</td>\n",
       "      <td>NaN</td>\n",
       "      <td>5000</td>\n",
       "      <td>5000</td>\n",
       "      <td>5000.0</td>\n",
       "      <td>36 months</td>\n",
       "      <td>17.97</td>\n",
       "      <td>180.69</td>\n",
       "      <td>D</td>\n",
       "      <td>D1</td>\n",
       "      <td>...</td>\n",
       "      <td>NaN</td>\n",
       "      <td>NaN</td>\n",
       "      <td>Cash</td>\n",
       "      <td>N</td>\n",
       "      <td>NaN</td>\n",
       "      <td>NaN</td>\n",
       "      <td>NaN</td>\n",
       "      <td>NaN</td>\n",
       "      <td>NaN</td>\n",
       "      <td>NaN</td>\n",
       "    </tr>\n",
       "    <tr>\n",
       "      <th>3</th>\n",
       "      <td>NaN</td>\n",
       "      <td>NaN</td>\n",
       "      <td>4000</td>\n",
       "      <td>4000</td>\n",
       "      <td>4000.0</td>\n",
       "      <td>36 months</td>\n",
       "      <td>18.94</td>\n",
       "      <td>146.51</td>\n",
       "      <td>D</td>\n",
       "      <td>D2</td>\n",
       "      <td>...</td>\n",
       "      <td>NaN</td>\n",
       "      <td>NaN</td>\n",
       "      <td>Cash</td>\n",
       "      <td>N</td>\n",
       "      <td>NaN</td>\n",
       "      <td>NaN</td>\n",
       "      <td>NaN</td>\n",
       "      <td>NaN</td>\n",
       "      <td>NaN</td>\n",
       "      <td>NaN</td>\n",
       "    </tr>\n",
       "    <tr>\n",
       "      <th>4</th>\n",
       "      <td>NaN</td>\n",
       "      <td>NaN</td>\n",
       "      <td>30000</td>\n",
       "      <td>30000</td>\n",
       "      <td>30000.0</td>\n",
       "      <td>60 months</td>\n",
       "      <td>16.14</td>\n",
       "      <td>731.78</td>\n",
       "      <td>C</td>\n",
       "      <td>C4</td>\n",
       "      <td>...</td>\n",
       "      <td>NaN</td>\n",
       "      <td>NaN</td>\n",
       "      <td>Cash</td>\n",
       "      <td>N</td>\n",
       "      <td>NaN</td>\n",
       "      <td>NaN</td>\n",
       "      <td>NaN</td>\n",
       "      <td>NaN</td>\n",
       "      <td>NaN</td>\n",
       "      <td>NaN</td>\n",
       "    </tr>\n",
       "  </tbody>\n",
       "</table>\n",
       "<p>5 rows × 145 columns</p>\n",
       "</div>"
      ],
      "text/plain": [
       "   id  member_id  loan_amnt  funded_amnt  funded_amnt_inv        term  \\\n",
       "0 NaN        NaN       2500         2500           2500.0   36 months   \n",
       "1 NaN        NaN      30000        30000          30000.0   60 months   \n",
       "2 NaN        NaN       5000         5000           5000.0   36 months   \n",
       "3 NaN        NaN       4000         4000           4000.0   36 months   \n",
       "4 NaN        NaN      30000        30000          30000.0   60 months   \n",
       "\n",
       "   int_rate  installment grade sub_grade  ... hardship_payoff_balance_amount  \\\n",
       "0     13.56        84.92     C        C1  ...                            NaN   \n",
       "1     18.94       777.23     D        D2  ...                            NaN   \n",
       "2     17.97       180.69     D        D1  ...                            NaN   \n",
       "3     18.94       146.51     D        D2  ...                            NaN   \n",
       "4     16.14       731.78     C        C4  ...                            NaN   \n",
       "\n",
       "  hardship_last_payment_amount disbursement_method  debt_settlement_flag  \\\n",
       "0                          NaN                Cash                     N   \n",
       "1                          NaN                Cash                     N   \n",
       "2                          NaN                Cash                     N   \n",
       "3                          NaN                Cash                     N   \n",
       "4                          NaN                Cash                     N   \n",
       "\n",
       "  debt_settlement_flag_date settlement_status settlement_date  \\\n",
       "0                       NaN               NaN             NaN   \n",
       "1                       NaN               NaN             NaN   \n",
       "2                       NaN               NaN             NaN   \n",
       "3                       NaN               NaN             NaN   \n",
       "4                       NaN               NaN             NaN   \n",
       "\n",
       "  settlement_amount  settlement_percentage settlement_term  \n",
       "0               NaN                    NaN             NaN  \n",
       "1               NaN                    NaN             NaN  \n",
       "2               NaN                    NaN             NaN  \n",
       "3               NaN                    NaN             NaN  \n",
       "4               NaN                    NaN             NaN  \n",
       "\n",
       "[5 rows x 145 columns]"
      ]
     },
     "execution_count": 2,
     "metadata": {},
     "output_type": "execute_result"
    }
   ],
   "source": [
    "lend_club_df = pd.read_csv(\"loan.csv\", low_memory=False)\n",
    "lend_club_df.head()"
   ]
  },
  {
   "cell_type": "code",
   "execution_count": 3,
   "id": "3436916d-d994-465c-993d-4f1c4f865caa",
   "metadata": {},
   "outputs": [
    {
     "name": "stdout",
     "output_type": "stream",
     "text": [
      "<class 'pandas.core.frame.DataFrame'>\n",
      "RangeIndex: 2260668 entries, 0 to 2260667\n",
      "Columns: 145 entries, id to settlement_term\n",
      "dtypes: float64(105), int64(4), object(36)\n",
      "memory usage: 2.4+ GB\n"
     ]
    }
   ],
   "source": [
    "lend_club_df.info()"
   ]
  },
  {
   "cell_type": "code",
   "execution_count": 44,
   "id": "7d93fec4-e421-4958-9eb2-7444552176d9",
   "metadata": {},
   "outputs": [
    {
     "data": {
      "text/plain": [
       "id                             0\n",
       "member_id                      0\n",
       "loan_amnt                2260668\n",
       "funded_amnt              2260668\n",
       "funded_amnt_inv          2260668\n",
       "                          ...   \n",
       "settlement_status          33056\n",
       "settlement_date            33056\n",
       "settlement_amount          33056\n",
       "settlement_percentage      33056\n",
       "settlement_term            33056\n",
       "Length: 145, dtype: int64"
      ]
     },
     "execution_count": 44,
     "metadata": {},
     "output_type": "execute_result"
    }
   ],
   "source": [
    "lend_club_df.count()"
   ]
  },
  {
   "cell_type": "code",
   "execution_count": 5,
   "id": "ff2b360c-5f21-4dec-8586-e10e4fbb0e25",
   "metadata": {},
   "outputs": [],
   "source": [
    "lend_club_df.count().to_csv('column_count.csv')"
   ]
  },
  {
   "cell_type": "code",
   "execution_count": 4,
   "id": "a4d3fd1a-fd28-47a1-bd3b-1de468ff8990",
   "metadata": {},
   "outputs": [
    {
     "data": {
      "text/plain": [
       "Index(['id', 'member_id', 'emp_title', 'emp_length', 'annual_inc', 'url',\n",
       "       'desc', 'title', 'zip_code', 'dti',\n",
       "       ...\n",
       "       'hardship_loan_status', 'orig_projected_additional_accrued_interest',\n",
       "       'hardship_payoff_balance_amount', 'hardship_last_payment_amount',\n",
       "       'debt_settlement_flag_date', 'settlement_status', 'settlement_date',\n",
       "       'settlement_amount', 'settlement_percentage', 'settlement_term'],\n",
       "      dtype='object', length=113)"
      ]
     },
     "execution_count": 4,
     "metadata": {},
     "output_type": "execute_result"
    }
   ],
   "source": [
    "columns_below_100_percent = lend_club_df.columns[100*(lend_club_df.count()/len(lend_club_df.index)) < 100]\n",
    "columns_below_100_percent"
   ]
  },
  {
   "cell_type": "code",
   "execution_count": 5,
   "id": "7043aeb9-54ea-4c40-934c-1643847e6240",
   "metadata": {},
   "outputs": [
    {
     "data": {
      "text/plain": [
       "Index(['id', 'member_id', 'emp_title', 'emp_length', 'url', 'desc', 'title',\n",
       "       'mths_since_last_delinq', 'mths_since_last_record', 'next_pymnt_d',\n",
       "       'mths_since_last_major_derog', 'annual_inc_joint', 'dti_joint',\n",
       "       'verification_status_joint', 'tot_coll_amt', 'tot_cur_bal',\n",
       "       'open_acc_6m', 'open_act_il', 'open_il_12m', 'open_il_24m',\n",
       "       'mths_since_rcnt_il', 'total_bal_il', 'il_util', 'open_rv_12m',\n",
       "       'open_rv_24m', 'max_bal_bc', 'all_util', 'total_rev_hi_lim', 'inq_fi',\n",
       "       'total_cu_tl', 'inq_last_12m', 'acc_open_past_24mths', 'avg_cur_bal',\n",
       "       'bc_open_to_buy', 'bc_util', 'mo_sin_old_il_acct',\n",
       "       'mo_sin_old_rev_tl_op', 'mo_sin_rcnt_rev_tl_op', 'mo_sin_rcnt_tl',\n",
       "       'mort_acc', 'mths_since_recent_bc', 'mths_since_recent_bc_dlq',\n",
       "       'mths_since_recent_inq', 'mths_since_recent_revol_delinq',\n",
       "       'num_accts_ever_120_pd', 'num_actv_bc_tl', 'num_actv_rev_tl',\n",
       "       'num_bc_sats', 'num_bc_tl', 'num_il_tl', 'num_op_rev_tl',\n",
       "       'num_rev_accts', 'num_rev_tl_bal_gt_0', 'num_sats', 'num_tl_120dpd_2m',\n",
       "       'num_tl_30dpd', 'num_tl_90g_dpd_24m', 'num_tl_op_past_12m',\n",
       "       'pct_tl_nvr_dlq', 'percent_bc_gt_75', 'tot_hi_cred_lim',\n",
       "       'total_bal_ex_mort', 'total_bc_limit', 'total_il_high_credit_limit',\n",
       "       'revol_bal_joint', 'sec_app_earliest_cr_line', 'sec_app_inq_last_6mths',\n",
       "       'sec_app_mort_acc', 'sec_app_open_acc', 'sec_app_revol_util',\n",
       "       'sec_app_open_act_il', 'sec_app_num_rev_accts',\n",
       "       'sec_app_chargeoff_within_12_mths',\n",
       "       'sec_app_collections_12_mths_ex_med',\n",
       "       'sec_app_mths_since_last_major_derog', 'hardship_type',\n",
       "       'hardship_reason', 'hardship_status', 'deferral_term',\n",
       "       'hardship_amount', 'hardship_start_date', 'hardship_end_date',\n",
       "       'payment_plan_start_date', 'hardship_length', 'hardship_dpd',\n",
       "       'hardship_loan_status', 'orig_projected_additional_accrued_interest',\n",
       "       'hardship_payoff_balance_amount', 'hardship_last_payment_amount',\n",
       "       'debt_settlement_flag_date', 'settlement_status', 'settlement_date',\n",
       "       'settlement_amount', 'settlement_percentage', 'settlement_term'],\n",
       "      dtype='object')"
      ]
     },
     "execution_count": 5,
     "metadata": {},
     "output_type": "execute_result"
    }
   ],
   "source": [
    "columns_below_99_percent = lend_club_df.columns[100*(lend_club_df.count()/len(lend_club_df.index)) < 99]\n",
    "columns_below_99_percent"
   ]
  },
  {
   "cell_type": "code",
   "execution_count": 6,
   "id": "3aab414b-a3cc-40db-9fb1-52c7afa7b9c2",
   "metadata": {},
   "outputs": [
    {
     "data": {
      "text/plain": [
       "95"
      ]
     },
     "execution_count": 6,
     "metadata": {},
     "output_type": "execute_result"
    }
   ],
   "source": [
    "len(columns_below_99_percent)"
   ]
  },
  {
   "cell_type": "code",
   "execution_count": 17,
   "id": "7dcbfce7-0e6c-4eec-a463-812a9b84b6e1",
   "metadata": {},
   "outputs": [
    {
     "data": {
      "text/plain": [
       "(2260668, 50)"
      ]
     },
     "execution_count": 17,
     "metadata": {},
     "output_type": "execute_result"
    }
   ],
   "source": [
    "lend_club_net_col_df = lend_club_df.drop(columns_below_99_percent, axis=1)\n",
    "lend_club_net_col_df.shape"
   ]
  },
  {
   "cell_type": "code",
   "execution_count": 22,
   "id": "b4691bca-8d76-4d22-8e3a-9a8854c1a846",
   "metadata": {},
   "outputs": [
    {
     "data": {
      "text/plain": [
       "issue_d\n",
       "Mar-2016    61992\n",
       "Oct-2015    48631\n",
       "May-2018    46311\n",
       "Oct-2018    46305\n",
       "Aug-2018    46079\n",
       "            ...  \n",
       "Aug-2007       74\n",
       "Jul-2007       63\n",
       "Sep-2008       57\n",
       "Sep-2007       53\n",
       "Jun-2007       24\n",
       "Name: count, Length: 139, dtype: int64"
      ]
     },
     "execution_count": 22,
     "metadata": {},
     "output_type": "execute_result"
    }
   ],
   "source": [
    "lend_club_net_col_df['issue_d'].value_counts()"
   ]
  },
  {
   "cell_type": "code",
   "execution_count": 18,
   "id": "1c753cc2-329f-445a-aca9-ca8aec1da3fe",
   "metadata": {},
   "outputs": [
    {
     "name": "stderr",
     "output_type": "stream",
     "text": [
      "C:\\Users\\Jerry\\AppData\\Local\\Temp\\ipykernel_21404\\301680155.py:1: UserWarning: Could not infer format, so each element will be parsed individually, falling back to `dateutil`. To ensure parsing is consistent and as-expected, please specify a format.\n",
      "  pd.to_datetime(lend_club_net_col_df['issue_d']).dt.year.value_counts()\n"
     ]
    },
    {
     "data": {
      "text/plain": [
       "issue_d\n",
       "2018    495242\n",
       "2017    443579\n",
       "2016    434407\n",
       "2015    421095\n",
       "2014    235629\n",
       "2013    134814\n",
       "2012     53367\n",
       "2011     21721\n",
       "2010     12537\n",
       "2009      5281\n",
       "2008      2393\n",
       "2007       603\n",
       "Name: count, dtype: int64"
      ]
     },
     "execution_count": 18,
     "metadata": {},
     "output_type": "execute_result"
    }
   ],
   "source": [
    "pd.to_datetime(lend_club_net_col_df['issue_d']).dt.year.value_counts()"
   ]
  },
  {
   "cell_type": "code",
   "execution_count": 29,
   "id": "2faf7858-dae3-4845-a0b6-e5484027ecaf",
   "metadata": {},
   "outputs": [
    {
     "data": {
      "text/plain": [
       "(938821, 50)"
      ]
     },
     "execution_count": 29,
     "metadata": {},
     "output_type": "execute_result"
    }
   ],
   "source": [
    "lend_club_net_col_df['issue_d'] = pd.to_datetime(lend_club_net_col_df['issue_d'])\n",
    "lend_club_net_col_df = lend_club_net_col_df.set_index(lend_club_net_col_df['issue_d'])\n",
    "lend_club_net_col_df = lend_club_net_col_df.sort_index()\n",
    "lend_club_2017and2018_df = lend_club_net_col_df['Jan-2017':'Dec-2018']\n",
    "lend_club_2017and2018_df.shape\n",
    "# https://stackoverflow.com/questions/37532098/split-dataframe-into-two-on-the-basis-of-date"
   ]
  },
  {
   "cell_type": "code",
   "execution_count": 30,
   "id": "77fc5322-559f-4818-b515-22d0f4a798aa",
   "metadata": {},
   "outputs": [
    {
     "data": {
      "text/plain": [
       "issue_d\n",
       "2018    495242\n",
       "2017    443579\n",
       "Name: count, dtype: int64"
      ]
     },
     "execution_count": 30,
     "metadata": {},
     "output_type": "execute_result"
    }
   ],
   "source": [
    "pd.to_datetime(lend_club_2017and2018_df['issue_d']).dt.year.value_counts()"
   ]
  },
  {
   "cell_type": "code",
   "execution_count": 31,
   "id": "0b92d17e-98a4-41cd-a2f4-703f3f8073d6",
   "metadata": {
    "id": "0b92d17e-98a4-41cd-a2f4-703f3f8073d6"
   },
   "outputs": [
    {
     "name": "stdout",
     "output_type": "stream",
     "text": [
      "<class 'pandas.core.frame.DataFrame'>\n",
      "DatetimeIndex: 938821 entries, 2017-01-01 to 2018-12-01\n",
      "Data columns (total 50 columns):\n",
      " #   Column                      Non-Null Count   Dtype         \n",
      "---  ------                      --------------   -----         \n",
      " 0   loan_amnt                   938821 non-null  int64         \n",
      " 1   funded_amnt                 938821 non-null  int64         \n",
      " 2   funded_amnt_inv             938821 non-null  float64       \n",
      " 3   term                        938821 non-null  object        \n",
      " 4   int_rate                    938821 non-null  float64       \n",
      " 5   installment                 938821 non-null  float64       \n",
      " 6   grade                       938821 non-null  object        \n",
      " 7   sub_grade                   938821 non-null  object        \n",
      " 8   home_ownership              938821 non-null  object        \n",
      " 9   annual_inc                  938821 non-null  float64       \n",
      " 10  verification_status         938821 non-null  object        \n",
      " 11  issue_d                     938821 non-null  datetime64[ns]\n",
      " 12  loan_status                 938821 non-null  object        \n",
      " 13  pymnt_plan                  938821 non-null  object        \n",
      " 14  purpose                     938821 non-null  object        \n",
      " 15  zip_code                    938820 non-null  object        \n",
      " 16  addr_state                  938821 non-null  object        \n",
      " 17  dti                         937175 non-null  float64       \n",
      " 18  delinq_2yrs                 938821 non-null  float64       \n",
      " 19  earliest_cr_line            938821 non-null  object        \n",
      " 20  inq_last_6mths              938821 non-null  float64       \n",
      " 21  open_acc                    938821 non-null  float64       \n",
      " 22  pub_rec                     938821 non-null  float64       \n",
      " 23  revol_bal                   938821 non-null  int64         \n",
      " 24  revol_util                  937785 non-null  float64       \n",
      " 25  total_acc                   938821 non-null  float64       \n",
      " 26  initial_list_status         938821 non-null  object        \n",
      " 27  out_prncp                   938821 non-null  float64       \n",
      " 28  out_prncp_inv               938821 non-null  float64       \n",
      " 29  total_pymnt                 938821 non-null  float64       \n",
      " 30  total_pymnt_inv             938821 non-null  float64       \n",
      " 31  total_rec_prncp             938821 non-null  float64       \n",
      " 32  total_rec_int               938821 non-null  float64       \n",
      " 33  total_rec_late_fee          938821 non-null  float64       \n",
      " 34  recoveries                  938821 non-null  float64       \n",
      " 35  collection_recovery_fee     938821 non-null  float64       \n",
      " 36  last_pymnt_d                937582 non-null  object        \n",
      " 37  last_pymnt_amnt             938821 non-null  float64       \n",
      " 38  last_credit_pull_d          938808 non-null  object        \n",
      " 39  collections_12_mths_ex_med  938821 non-null  float64       \n",
      " 40  policy_code                 938821 non-null  int64         \n",
      " 41  application_type            938821 non-null  object        \n",
      " 42  acc_now_delinq              938821 non-null  float64       \n",
      " 43  chargeoff_within_12_mths    938821 non-null  float64       \n",
      " 44  delinq_amnt                 938821 non-null  float64       \n",
      " 45  pub_rec_bankruptcies        938821 non-null  float64       \n",
      " 46  tax_liens                   938821 non-null  float64       \n",
      " 47  hardship_flag               938821 non-null  object        \n",
      " 48  disbursement_method         938821 non-null  object        \n",
      " 49  debt_settlement_flag        938821 non-null  object        \n",
      "dtypes: datetime64[ns](1), float64(27), int64(4), object(18)\n",
      "memory usage: 365.3+ MB\n"
     ]
    }
   ],
   "source": [
    "lend_club_2017and2018_df.info()"
   ]
  },
  {
   "cell_type": "code",
   "execution_count": 32,
   "id": "c245586d-d128-4a0b-a96b-f07e0b5a9b3b",
   "metadata": {
    "id": "c245586d-d128-4a0b-a96b-f07e0b5a9b3b"
   },
   "outputs": [],
   "source": [
    "lend_club_2017and2018_df.to_csv('LC_loans_2017-2018.csv')"
   ]
  }
 ],
 "metadata": {
  "colab": {
   "provenance": []
  },
  "kernelspec": {
   "display_name": "Python 3 (ipykernel)",
   "language": "python",
   "name": "python3"
  },
  "language_info": {
   "codemirror_mode": {
    "name": "ipython",
    "version": 3
   },
   "file_extension": ".py",
   "mimetype": "text/x-python",
   "name": "python",
   "nbconvert_exporter": "python",
   "pygments_lexer": "ipython3",
   "version": "3.12.0"
  }
 },
 "nbformat": 4,
 "nbformat_minor": 5
}
