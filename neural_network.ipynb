{
 "cells": [
  {
   "cell_type": "code",
   "execution_count": null,
   "id": "232c52bf-2aa0-446c-a963-8e382d197171",
   "metadata": {},
   "outputs": [],
   "source": [
    "# Import dependencies\n",
    "from sklearn.model_selection import train_test_split\n",
    "from sklearn.preprocessing import StandardScaler\n",
    "from sklearn.metrics import accuracy_score\n",
    "from sklearn.decomposition import PCA\n",
    "import pandas as pd\n",
    "import tensorflow as tf\n",
    "import matplotlib.pyplot as plt\n",
    "\n",
    "# pip install plot-keras-history\n",
    "# https://pypi.org/project/plot-keras-history/\n",
    "from plot_keras_history import show_history, plot_history\n",
    "\n",
    "# Import our dataset\n",
    "#loan_df = pd.read_csv('Data_Source/loan.csv')              # <-- original dataset with excess columns and dates from 2015-2018\n",
    "loan_df = pd.read_csv('Data_Source/LC_loans_2017-2018.csv') # <-- trimmed dataset with data exclusively from 2017 and 2018 - the most recent years available\n",
    "\n",
    "#loan_df.head()"
   ]
  },
  {
   "cell_type": "code",
   "execution_count": 2,
   "id": "b86968f3-f533-4ccc-95e9-30c80ebe876e",
   "metadata": {},
   "outputs": [],
   "source": [
    "# round interest rate to whole number to measure accuracy to the nearest 0.5%\n",
    "    # has been tested, with no real improvement because of the scale of the dataset\n",
    "\n",
    "# loan_df_interest_rounded = list(loan_df['int_rate'])\n",
    "# interest_rounded_list = []\n",
    "\n",
    "# for number in loan_df_interest_rounded:\n",
    "#     interest_rounded_list.append(round(number * 2) / 2)\n",
    "\n",
    "# loan_df['interest_rounded'] = interest_rounded_list"
   ]
  },
  {
   "cell_type": "markdown",
   "id": "e50385ce-c189-46ea-bc96-1222f2ba59d5",
   "metadata": {},
   "source": [
    "# Predicting Grade or Sub Grade"
   ]
  },
  {
   "cell_type": "code",
   "execution_count": 3,
   "id": "cb043b1d-0f52-4481-affe-de6dd5ff5ba5",
   "metadata": {},
   "outputs": [],
   "source": [
    "# split into labels and features\n",
    "\n",
    "y = loan_df['grade']           # use either grade or sub_grade\n",
    "#y = loan_df['sub_grade']\n",
    "\n",
    "# in X, *always* keep 'annual_inc', 'dti', 'loan_amnt', 'term' - thanks Jerry!\n",
    "X = loan_df[['home_ownership', 'annual_inc', 'loan_amnt', 'term', 'dti', 'open_acc',\n",
    "             'pub_rec', 'loan_status', 'revol_util', 'acc_now_delinq']] # 'revol_util', 'acc_now_delinq'\n",
    "\n",
    "# removed ['mort_acc', 'emp_length', 'tot_cur_bal'] to work with the trimmed data file\n",
    "\n",
    "# can also try:\n",
    "# 'employment_length'\n",
    "# 'title'\n",
    "# 'pub_rec_bankruptcies'\n",
    "# 'tot_cur_bal'\n",
    "# 'loan_status'"
   ]
  },
  {
   "cell_type": "code",
   "execution_count": 4,
   "id": "f65142a7-d220-4163-abe0-bcc3a75fa984",
   "metadata": {},
   "outputs": [],
   "source": [
    "# find rows with null values in specific columns\n",
    "#X.query('annual_inc != annual_inc') # 'column_name != column_name' shows where NaNs exist"
   ]
  },
  {
   "cell_type": "code",
   "execution_count": 5,
   "id": "26b95fad-9e16-4c43-94ea-a0a7199e4387",
   "metadata": {},
   "outputs": [],
   "source": [
    "# drop the 4 nulls from annual_inc\n",
    "#X = X.drop(index=[2141934, 2141935, 2141965, 2142018])\n",
    "#y = y.drop(index=[2141934, 2141935, 2141965, 2142018])\n",
    "\n",
    "    # this and previous cell updated to use for loop below"
   ]
  },
  {
   "cell_type": "code",
   "execution_count": 6,
   "id": "7920f8aa-316a-4234-98d5-9230f577d5a9",
   "metadata": {},
   "outputs": [],
   "source": [
    "# drop rows with null values in any column - will be around 2000 rows\n",
    "\n",
    "# get column names from X\n",
    "column_names = X.columns\n",
    "\n",
    "# loop through X to drop the rows that have nulls and apply the same drops to y\n",
    "for column in column_names:\n",
    "    # temp list to hold index values that have nulls in each column\n",
    "    null_list = list(X.query(f'{column} != {column}').index)\n",
    "    # drop from X\n",
    "    X = X.dropna(axis='index', subset=[f'{column}'])\n",
    "    # drop from y\n",
    "    y = y.drop(index=null_list)"
   ]
  },
  {
   "cell_type": "code",
   "execution_count": 7,
   "id": "ffed0989-0b1c-4b06-84c8-6cdffa95ebec",
   "metadata": {},
   "outputs": [],
   "source": [
    "# # drop nulls - not all columns have nulls so these are the ones that do\n",
    "# dti_null_list = list(X.query('dti != dti').index)\n",
    "# X = X.dropna(axis='index', subset=['dti'])\n",
    "# y = y.drop(index=dti_null_list)\n",
    "\n",
    "# emp_length_null_list = list(X.query('emp_length != emp_length').index)\n",
    "# X = X.dropna(axis='index', subset=['emp_length'])\n",
    "# y = y.drop(index=emp_length_null_list)\n",
    "\n",
    "    # updated to for loop above"
   ]
  },
  {
   "cell_type": "code",
   "execution_count": 8,
   "id": "4962e4bb-0411-46b8-80cb-c5cd5be781ba",
   "metadata": {},
   "outputs": [],
   "source": [
    "# fillna with 0 (should only impact 'mths_since_last_delinq', leading to higher accuracy. nulls in this column hurt the accuracy a lot)\n",
    "# this step needs to be done after any other dropnas\n",
    "#X = X.fillna(0)\n",
    "\n",
    "    # not necessary without this column currently"
   ]
  },
  {
   "cell_type": "code",
   "execution_count": 9,
   "id": "518bfcac-5d5b-43cd-84ba-e4bc33e7bebe",
   "metadata": {},
   "outputs": [],
   "source": [
    "y = pd.get_dummies(y) # get_dummies on y is required when predicting grades or subgrades"
   ]
  },
  {
   "cell_type": "code",
   "execution_count": 10,
   "id": "f2fff562-3d47-45f3-9956-61fa0e897e26",
   "metadata": {},
   "outputs": [],
   "source": [
    "# setting dtype to float may not be necessary. Without this, default for many columns is boolean\n",
    "X = pd.get_dummies(X) #dtype=float\n",
    "#X.head()"
   ]
  },
  {
   "cell_type": "code",
   "execution_count": 11,
   "id": "dbf4850e-8915-4a95-9423-05b572d73db4",
   "metadata": {},
   "outputs": [],
   "source": [
    "X_train, X_test, y_train, y_test = train_test_split(X, y, random_state=1) # stratify=y, test_size=0.2,"
   ]
  },
  {
   "cell_type": "code",
   "execution_count": 12,
   "id": "d7ff959b-ebd2-4cda-aef6-cc0d8a7f731f",
   "metadata": {},
   "outputs": [],
   "source": [
    "# standardize the data\n",
    "\n",
    "scaler = StandardScaler()\n",
    "\n",
    "X_scaled = scaler.fit(X_train)\n",
    "\n",
    "X_train_scaled = X_scaled.transform(X_train)\n",
    "X_test_scaled = X_scaled.transform(X_test)"
   ]
  },
  {
   "cell_type": "code",
   "execution_count": 13,
   "id": "4d0afce9-e59d-400f-b885-47d90e95e45a",
   "metadata": {},
   "outputs": [
    {
     "name": "stdout",
     "output_type": "stream",
     "text": [
      "WARNING:tensorflow:From C:\\Users\\Owen\\AppData\\Local\\Programs\\Python\\Python311\\Lib\\site-packages\\keras\\src\\backend.py:873: The name tf.get_default_graph is deprecated. Please use tf.compat.v1.get_default_graph instead.\n",
      "\n"
     ]
    }
   ],
   "source": [
    "# create layers for the neural network model. Number of layers is subjective and should be tested with more/fewer layers and nodes.\n",
    "\n",
    "grade_model = tf.keras.models.Sequential()\n",
    "grade_model.add(tf.keras.layers.Dense(units=500, input_dim=21, activation='sigmoid'))\n",
    "grade_model.add(tf.keras.layers.Dense(units=250, activation='sigmoid'))\n",
    "#grade_model.add(tf.keras.layers.Dense(units=125, activation='sigmoid'))\n",
    "grade_model.add(tf.keras.layers.Dense(units=7, activation='softmax'))"
   ]
  },
  {
   "cell_type": "code",
   "execution_count": 14,
   "id": "4da3e8c1-7404-411a-85da-f80a9497062a",
   "metadata": {},
   "outputs": [],
   "source": [
    "# # lower the learning rate to prevent overfitting. overfitting was common at the default learning rate, causing accuracy to tank within 1 epoch\n",
    "# learning_rate = tf.Variable(0.0001, trainable=True)\n",
    "# tf.keras.backend.set_value(learning_rate, 0.0001)\n",
    "\n",
    "    # unnecessary because adam has a built in learning rate modifier"
   ]
  },
  {
   "cell_type": "code",
   "execution_count": 15,
   "id": "2ff13b12-33d1-4f2a-9ee7-4060e9415744",
   "metadata": {},
   "outputs": [
    {
     "name": "stdout",
     "output_type": "stream",
     "text": [
      "WARNING:tensorflow:From C:\\Users\\Owen\\AppData\\Local\\Programs\\Python\\Python311\\Lib\\site-packages\\keras\\src\\optimizers\\__init__.py:309: The name tf.train.Optimizer is deprecated. Please use tf.compat.v1.train.Optimizer instead.\n",
      "\n",
      "Epoch 1/5\n",
      "WARNING:tensorflow:From C:\\Users\\Owen\\AppData\\Local\\Programs\\Python\\Python311\\Lib\\site-packages\\keras\\src\\utils\\tf_utils.py:492: The name tf.ragged.RaggedTensorValue is deprecated. Please use tf.compat.v1.ragged.RaggedTensorValue instead.\n",
      "\n",
      "WARNING:tensorflow:From C:\\Users\\Owen\\AppData\\Local\\Programs\\Python\\Python311\\Lib\\site-packages\\keras\\src\\engine\\base_layer_utils.py:384: The name tf.executing_eagerly_outside_functions is deprecated. Please use tf.compat.v1.executing_eagerly_outside_functions instead.\n",
      "\n",
      "21941/21941 [==============================] - 36s 2ms/step - loss: 0.2006 - accuracy: 0.4140\n",
      "Epoch 2/5\n",
      "21941/21941 [==============================] - 35s 2ms/step - loss: 0.1972 - accuracy: 0.4200\n",
      "Epoch 3/5\n",
      "21941/21941 [==============================] - 35s 2ms/step - loss: 0.1961 - accuracy: 0.4217\n",
      "Epoch 4/5\n",
      "21941/21941 [==============================] - 35s 2ms/step - loss: 0.1955 - accuracy: 0.4230\n",
      "Epoch 5/5\n",
      "21941/21941 [==============================] - 35s 2ms/step - loss: 0.1950 - accuracy: 0.4240\n"
     ]
    }
   ],
   "source": [
    "# train the model and check accuracy\n",
    "\n",
    "grade_model.compile(loss='categorical_focal_crossentropy', optimizer='adam', metrics=['accuracy'])\n",
    "\n",
    "fit_grade_model = grade_model.fit(X_train_scaled, y_train, epochs=5)"
   ]
  },
  {
   "cell_type": "code",
   "execution_count": 16,
   "id": "f120eea0-733f-4362-8dc3-59a765c90a91",
   "metadata": {},
   "outputs": [],
   "source": [
    "# export model to keras file\n",
    "    # using keras over hdf5 because hdf5 is now legacy\n",
    "grade_model.save('grade_model.keras')"
   ]
  },
  {
   "cell_type": "code",
   "execution_count": 17,
   "id": "1c4f5796-4ce5-468a-8cb3-550c89059dc9",
   "metadata": {},
   "outputs": [
    {
     "data": {
      "image/png": "[encoded data removed]",
      "text/plain": [
       "<Figure size 500x500 with 1 Axes>"
      ]
     },
     "metadata": {},
     "output_type": "display_data"
    }
   ],
   "source": [
    "grade_histories = []\n",
    "for holdout in range(5):\n",
    "    model = grade_model\n",
    "    grade_histories.append(model.fit(X_train_scaled, y_train, epochs=10, verbose=0))\n",
    "\n",
    "plot_history(\n",
    "    grade_histories,\n",
    "    path='grade_plots',\n",
    "    single_graphs=True,\n",
    "    show_standard_deviation=False,\n",
    "    show_average=True\n",
    ")\n",
    "\n",
    "plt.close()"
   ]
  },
  {
   "cell_type": "markdown",
   "id": "00dc88d5-9d33-439d-a24b-17c0d6cd093b",
   "metadata": {},
   "source": [
    "# Predicting Interest Rate"
   ]
  },
  {
   "cell_type": "code",
   "execution_count": 18,
   "id": "c0d82aa0-d762-4d2e-a6de-f97c090e9cd9",
   "metadata": {},
   "outputs": [],
   "source": [
    "y = loan_df[['int_rate']] # in double brackets for y scaling testing\n",
    "# X = loan_df[['home_ownership', 'annual_inc', 'loan_amnt', 'term', 'dti', 'mort_acc', 'open_acc',\n",
    "#              'emp_length', 'tot_cur_bal', 'revol_util', 'acc_now_delinq']]\n",
    "\n",
    "X = loan_df[['annual_inc', 'dti', 'loan_amnt', 'term', 'sub_grade', 'revol_util', 'acc_now_delinq', 'loan_status', \n",
    "            'pub_rec_bankruptcies', 'purpose', 'home_ownership']]\n",
    "\n",
    "# ['emp_length', 'total_il_high_credit_limit', 'tot_cur_bal', 'mort_acc', 'num_accts_ever_120_pd', 'pct_tl_nvr_dlq', 'tot_hi_cred_lim']\n",
    "    # temporarily removed for testing cleaned dataset"
   ]
  },
  {
   "cell_type": "code",
   "execution_count": 19,
   "id": "804964b4-a1f2-4959-be23-1ab0d20973df",
   "metadata": {},
   "outputs": [],
   "source": [
    "# drop rows with null values in any column - will be around 2000 rows\n",
    "\n",
    "# get column names from X\n",
    "column_names = X.columns\n",
    "\n",
    "# loop through X to drop the rows that have nulls and apply the same drops to y\n",
    "for column in column_names:\n",
    "    # temp list to hold index values that have nulls in each column\n",
    "    null_list = list(X.query(f'{column} != {column}').index)\n",
    "    # drop from X\n",
    "    X = X.dropna(axis='index', subset=[f'{column}'])\n",
    "    # drop from y\n",
    "    y = y.drop(index=null_list)"
   ]
  },
  {
   "cell_type": "code",
   "execution_count": 20,
   "id": "565ecd64-28da-48cc-8ee4-b5882f90b7ad",
   "metadata": {},
   "outputs": [],
   "source": [
    "X = pd.get_dummies(X)\n",
    "X_train, X_test, y_train, y_test = train_test_split(X, y, random_state=1)"
   ]
  },
  {
   "cell_type": "code",
   "execution_count": 21,
   "id": "915a90e6-8edb-434e-8a15-f28716b61ad5",
   "metadata": {},
   "outputs": [],
   "source": [
    "# standardize the data\n",
    "\n",
    "scaler = StandardScaler()\n",
    "\n",
    "X_scaled = scaler.fit(X_train)\n",
    "\n",
    "X_train_scaled = X_scaled.transform(X_train)\n",
    "X_test_scaled = X_scaled.transform(X_test)\n",
    "\n",
    "# testing scaling y\n",
    "y_scaled = scaler.fit(y_train)\n",
    "y_train_scaled = y_scaled.transform(y_train)\n",
    "y_test_scaled = y_scaled.transform(y_test)"
   ]
  },
  {
   "cell_type": "code",
   "execution_count": 22,
   "id": "f871e6dc-7d60-4a73-9ce7-43c9e504212a",
   "metadata": {},
   "outputs": [],
   "source": [
    "interest_model = tf.keras.models.Sequential()\n",
    "interest_model.add(tf.keras.layers.Dense(units=50, input_dim=69, activation='sigmoid'))\n",
    "interest_model.add(tf.keras.layers.Dense(units=25, activation='sigmoid'))\n",
    "interest_model.add(tf.keras.layers.Dense(units=12, activation='sigmoid'))\n",
    "interest_model.add(tf.keras.layers.Dense(units=1, activation='linear'))"
   ]
  },
  {
   "cell_type": "code",
   "execution_count": 23,
   "id": "4fb02cf5-b554-4131-aa97-fc86868a6c03",
   "metadata": {},
   "outputs": [
    {
     "name": "stdout",
     "output_type": "stream",
     "text": [
      "Epoch 1/5\n",
      "21941/21941 [==============================] - 22s 957us/step - loss: 0.0146 - r2_score: 0.9854\n",
      "Epoch 2/5\n",
      "21941/21941 [==============================] - 20s 922us/step - loss: 0.0066 - r2_score: 0.9934\n",
      "Epoch 3/5\n",
      "21941/21941 [==============================] - 20s 924us/step - loss: 0.0064 - r2_score: 0.9936\n",
      "Epoch 4/5\n",
      "21941/21941 [==============================] - 21s 954us/step - loss: 0.0063 - r2_score: 0.9937\n",
      "Epoch 5/5\n",
      "21941/21941 [==============================] - 20s 923us/step - loss: 0.0063 - r2_score: 0.9937\n"
     ]
    }
   ],
   "source": [
    "# train the model and check accuracy\n",
    "interest_model.compile(loss='mean_squared_error', optimizer='adam', metrics=['R2Score'])\n",
    "\n",
    "fit_interest_model = interest_model.fit(X_train_scaled, y_train_scaled, epochs=5)"
   ]
  },
  {
   "cell_type": "code",
   "execution_count": 24,
   "id": "ee584186-25fe-4a93-95b5-48fa7b0ee583",
   "metadata": {},
   "outputs": [],
   "source": [
    "#show_history(fit_interest_model) # single_graphs=True        temporarily commented for a full run\n",
    "#plt.close()"
   ]
  },
  {
   "cell_type": "code",
   "execution_count": 25,
   "id": "3b342760-54df-4dcf-b1c5-614081d66f50",
   "metadata": {},
   "outputs": [],
   "source": [
    "# export model to keras file\n",
    "    # using keras over hdf5 because hdf5 is now legacy\n",
    "interest_model.save('interest_model.keras')"
   ]
  },
  {
   "cell_type": "code",
   "execution_count": 26,
   "id": "a3d5537b-85e9-4188-a95c-bf44c5b2408e",
   "metadata": {},
   "outputs": [
    {
     "name": "stdout",
     "output_type": "stream",
     "text": [
      "Model: \"sequential_1\"\n",
      "_________________________________________________________________\n",
      " Layer (type)                Output Shape              Param #   \n",
      "=================================================================\n",
      " dense_3 (Dense)             (None, 50)                3500      \n",
      "                                                                 \n",
      " dense_4 (Dense)             (None, 25)                1275      \n",
      "                                                                 \n",
      " dense_5 (Dense)             (None, 12)                312       \n",
      "                                                                 \n",
      " dense_6 (Dense)             (None, 1)                 13        \n",
      "                                                                 \n",
      "=================================================================\n",
      "Total params: 5100 (19.92 KB)\n",
      "Trainable params: 5100 (19.92 KB)\n",
      "Non-trainable params: 0 (0.00 Byte)\n",
      "_________________________________________________________________\n"
     ]
    }
   ],
   "source": [
    "interest_model.summary()"
   ]
  },
  {
   "cell_type": "code",
   "execution_count": 27,
   "id": "c68d1a1e-597c-468e-a842-f5f8a8ee7cad",
   "metadata": {},
   "outputs": [
    {
     "data": {
      "image/png": "[encoded data removed]",
      "text/plain": [
       "<Figure size 500x500 with 1 Axes>"
      ]
     },
     "metadata": {},
     "output_type": "display_data"
    }
   ],
   "source": [
    "interest_histories = []\n",
    "for holdout in range(5):\n",
    "    model = interest_model\n",
    "    interest_histories.append(model.fit(X_train_scaled, y_train, epochs=10, verbose=0))\n",
    "\n",
    "plot_history(\n",
    "    interest_histories,\n",
    "    path='interest_plots',\n",
    "    single_graphs=True,\n",
    "    show_standard_deviation=False,\n",
    "    show_average=True\n",
    ")\n",
    "\n",
    "plt.close()"
   ]
  },
  {
   "cell_type": "code",
   "execution_count": null,
   "id": "b8b9da6a-9da5-4f67-bb19-65c476353883",
   "metadata": {},
   "outputs": [],
   "source": []
  }
 ],
 "metadata": {
  "kernelspec": {
   "display_name": "Python 3 (ipykernel)",
   "language": "python",
   "name": "python3"
  },
  "language_info": {
   "codemirror_mode": {
    "name": "ipython",
    "version": 3
   },
   "file_extension": ".py",
   "mimetype": "text/x-python",
   "name": "python",
   "nbconvert_exporter": "python",
   "pygments_lexer": "ipython3",
   "version": "3.11.5"
  }
 },
 "nbformat": 4,
 "nbformat_minor": 5
}
