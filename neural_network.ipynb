{
 "cells": [
  {
   "cell_type": "code",
   "execution_count": 1,
   "id": "232c52bf-2aa0-446c-a963-8e382d197171",
   "metadata": {},
   "outputs": [
    {
     "name": "stdout",
     "output_type": "stream",
     "text": [
      "WARNING:tensorflow:From C:\\Users\\Owen\\AppData\\Local\\Programs\\Python\\Python311\\Lib\\site-packages\\keras\\src\\losses.py:2976: The name tf.losses.sparse_softmax_cross_entropy is deprecated. Please use tf.compat.v1.losses.sparse_softmax_cross_entropy instead.\n",
      "\n"
     ]
    },
    {
     "name": "stderr",
     "output_type": "stream",
     "text": [
      "C:\\Users\\Owen\\AppData\\Local\\Temp\\ipykernel_23300\\3462729078.py:15: DtypeWarning: Columns (19,47,55,112,123,124,125,128,129,130,133,139,140,141) have mixed types. Specify dtype option on import or set low_memory=False.\n",
      "  loan_df = pd.read_csv('Data_Source/loan.csv')\n"
     ]
    }
   ],
   "source": [
    "# Import dependencies\n",
    "from sklearn.model_selection import train_test_split\n",
    "from sklearn.preprocessing import StandardScaler\n",
    "from sklearn.metrics import accuracy_score\n",
    "from sklearn.decomposition import PCA\n",
    "import pandas as pd\n",
    "import tensorflow as tf\n",
    "import matplotlib.pyplot as plt\n",
    "\n",
    "# pip install plot-keras-history\n",
    "# https://pypi.org/project/plot-keras-history/\n",
    "from plot_keras_history import show_history, plot_history\n",
    "\n",
    "# Import our input dataset\n",
    "loan_df = pd.read_csv('Data_Source/loan.csv')\n",
    "#loan_df.head()"
   ]
  },
  {
   "cell_type": "code",
   "execution_count": 2,
   "id": "b86968f3-f533-4ccc-95e9-30c80ebe876e",
   "metadata": {},
   "outputs": [],
   "source": [
    "# round interest rate to whole number to measure accuracy within 1%\n",
    "    # has been tested, with no real improvement because of how r2 scores work\n",
    "\n",
    "# loan_df_interest_rounded = list(loan_df['int_rate'])\n",
    "# interest_rounded_list = []\n",
    "\n",
    "# for number in loan_df_interest_rounded:\n",
    "#     interest_rounded_list.append(round(number * 2) / 2)\n",
    "\n",
    "# loan_df['interest_rounded'] = interest_rounded_list"
   ]
  },
  {
   "cell_type": "markdown",
   "id": "e50385ce-c189-46ea-bc96-1222f2ba59d5",
   "metadata": {},
   "source": [
    "# Predicting Grade or Sub Grade"
   ]
  },
  {
   "cell_type": "code",
   "execution_count": 3,
   "id": "cb043b1d-0f52-4481-affe-de6dd5ff5ba5",
   "metadata": {},
   "outputs": [],
   "source": [
    "# split into labels and features\n",
    "\n",
    "y = loan_df['grade']           # use either grade or sub_grade\n",
    "#y = loan_df['sub_grade']\n",
    "\n",
    "# in X, *always* keep 'annual_inc', 'dti', 'loan_amnt', 'term' - thanks Jerry!\n",
    "X = loan_df[['home_ownership', 'annual_inc', 'loan_amnt', 'term', 'dti', 'mort_acc', 'open_acc',\n",
    "             'pub_rec', 'emp_length', 'tot_cur_bal', 'loan_status', 'revol_util', 'acc_now_delinq']] # 'revol_util', 'acc_now_delinq'\n",
    "\n",
    "# can also try:\n",
    "# 'employment_length'\n",
    "# 'title'\n",
    "# 'pub_rec_bankruptcies'\n",
    "# 'tot_cur_bal'\n",
    "# 'loan_status'"
   ]
  },
  {
   "cell_type": "code",
   "execution_count": 4,
   "id": "f65142a7-d220-4163-abe0-bcc3a75fa984",
   "metadata": {},
   "outputs": [],
   "source": [
    "# find rows with null values in specific columns\n",
    "#X.query('annual_inc != annual_inc') # 'column_name != column_name' shows where NaNs exist"
   ]
  },
  {
   "cell_type": "code",
   "execution_count": 5,
   "id": "26b95fad-9e16-4c43-94ea-a0a7199e4387",
   "metadata": {},
   "outputs": [],
   "source": [
    "# drop the 4 nulls from annual_inc\n",
    "#X = X.drop(index=[2141934, 2141935, 2141965, 2142018])\n",
    "#y = y.drop(index=[2141934, 2141935, 2141965, 2142018])\n",
    "\n",
    "    # this and previous cell updated to use for loop below"
   ]
  },
  {
   "cell_type": "code",
   "execution_count": 6,
   "id": "7920f8aa-316a-4234-98d5-9230f577d5a9",
   "metadata": {},
   "outputs": [],
   "source": [
    "# drop rows with null values in each column\n",
    "\n",
    "# get column names from X\n",
    "column_names = X.columns\n",
    "\n",
    "# loop through X to drop the rows that have nulls and apply the same drops to y\n",
    "for column in column_names:\n",
    "    # temp list to hold index values that have nulls in each column\n",
    "    null_list = list(X.query(f'{column} != {column}').index)\n",
    "    # drop from X\n",
    "    X = X.dropna(axis='index', subset=[f'{column}'])\n",
    "    # drop from y\n",
    "    y = y.drop(index=null_list)"
   ]
  },
  {
   "cell_type": "code",
   "execution_count": 7,
   "id": "ffed0989-0b1c-4b06-84c8-6cdffa95ebec",
   "metadata": {},
   "outputs": [],
   "source": [
    "# # drop nulls - not all columns have nulls so these are the ones that do\n",
    "# dti_null_list = list(X.query('dti != dti').index)\n",
    "# X = X.dropna(axis='index', subset=['dti'])\n",
    "# y = y.drop(index=dti_null_list)\n",
    "\n",
    "# emp_length_null_list = list(X.query('emp_length != emp_length').index)\n",
    "# X = X.dropna(axis='index', subset=['emp_length'])\n",
    "# y = y.drop(index=emp_length_null_list)\n",
    "\n",
    "    # updated to for loop above"
   ]
  },
  {
   "cell_type": "code",
   "execution_count": 8,
   "id": "4962e4bb-0411-46b8-80cb-c5cd5be781ba",
   "metadata": {},
   "outputs": [],
   "source": [
    "# fillna with 0 (should only impact 'mths_since_last_delinq', leading to higher accuracy. nulls in this column hurt the accuracy a lot)\n",
    "# this step needs to be done after any other dropnas\n",
    "#X = X.fillna(0)\n",
    "\n",
    "    # not necessary without this column currently"
   ]
  },
  {
   "cell_type": "code",
   "execution_count": 9,
   "id": "518bfcac-5d5b-43cd-84ba-e4bc33e7bebe",
   "metadata": {},
   "outputs": [],
   "source": [
    "y = pd.get_dummies(y) # get_dummies on y is required when predicting grades or subgrades"
   ]
  },
  {
   "cell_type": "code",
   "execution_count": 10,
   "id": "f2fff562-3d47-45f3-9956-61fa0e897e26",
   "metadata": {},
   "outputs": [],
   "source": [
    "# setting dtype to float may not be necessary. Without this, default for many columns is boolean\n",
    "X = pd.get_dummies(X) #dtype=float\n",
    "#X.head()"
   ]
  },
  {
   "cell_type": "code",
   "execution_count": 11,
   "id": "dbf4850e-8915-4a95-9423-05b572d73db4",
   "metadata": {},
   "outputs": [],
   "source": [
    "X_train, X_test, y_train, y_test = train_test_split(X, y, random_state=1) # stratify=y, test_size=0.2,"
   ]
  },
  {
   "cell_type": "code",
   "execution_count": 12,
   "id": "d7ff959b-ebd2-4cda-aef6-cc0d8a7f731f",
   "metadata": {},
   "outputs": [],
   "source": [
    "# standardize the data\n",
    "\n",
    "scaler = StandardScaler()\n",
    "\n",
    "X_scaled = scaler.fit(X_train)\n",
    "\n",
    "X_train_scaled = X_scaled.transform(X_train)\n",
    "X_test_scaled = X_scaled.transform(X_test)"
   ]
  },
  {
   "cell_type": "code",
   "execution_count": 13,
   "id": "4d0afce9-e59d-400f-b885-47d90e95e45a",
   "metadata": {},
   "outputs": [
    {
     "name": "stdout",
     "output_type": "stream",
     "text": [
      "WARNING:tensorflow:From C:\\Users\\Owen\\AppData\\Local\\Programs\\Python\\Python311\\Lib\\site-packages\\keras\\src\\backend.py:873: The name tf.get_default_graph is deprecated. Please use tf.compat.v1.get_default_graph instead.\n",
      "\n"
     ]
    }
   ],
   "source": [
    "# create layers for the neural network model. Number of layers is subjective and should be tested with more/fewer layers and nodes.\n",
    "\n",
    "model = tf.keras.models.Sequential()\n",
    "model.add(tf.keras.layers.Dense(units=500, input_dim=35, activation='sigmoid'))\n",
    "model.add(tf.keras.layers.Dense(units=250, activation='sigmoid'))\n",
    "#model.add(tf.keras.layers.Dense(units=125, activation='sigmoid'))\n",
    "model.add(tf.keras.layers.Dense(units=7, activation='softmax'))"
   ]
  },
  {
   "cell_type": "code",
   "execution_count": 14,
   "id": "4da3e8c1-7404-411a-85da-f80a9497062a",
   "metadata": {},
   "outputs": [],
   "source": [
    "# # lower the learning rate to prevent overfitting. overfitting was common at the default learning rate, causing accuracy to tank within 1 epoch\n",
    "# learning_rate = tf.Variable(0.0001, trainable=True)\n",
    "# tf.keras.backend.set_value(learning_rate, 0.0001)\n",
    "\n",
    "    # unnecessary because adam has a built in learning rate modifier"
   ]
  },
  {
   "cell_type": "code",
   "execution_count": 15,
   "id": "2ff13b12-33d1-4f2a-9ee7-4060e9415744",
   "metadata": {},
   "outputs": [
    {
     "name": "stdout",
     "output_type": "stream",
     "text": [
      "WARNING:tensorflow:From C:\\Users\\Owen\\AppData\\Local\\Programs\\Python\\Python311\\Lib\\site-packages\\keras\\src\\optimizers\\__init__.py:309: The name tf.train.Optimizer is deprecated. Please use tf.compat.v1.train.Optimizer instead.\n",
      "\n"
     ]
    }
   ],
   "source": [
    "# train the model and check accuracy\n",
    "\n",
    "model.compile(loss='categorical_focal_crossentropy', optimizer='adam', metrics=['accuracy'])\n",
    "\n",
    "fit_model = model.fit(X_train_scaled, y_train, epochs=10)"
   ]
  },
  {
   "cell_type": "code",
   "execution_count": 16,
   "id": "1c4f5796-4ce5-468a-8cb3-550c89059dc9",
   "metadata": {},
   "outputs": [
    {
     "name": "stdout",
     "output_type": "stream",
     "text": [
      "Epoch 1/10\n",
      "WARNING:tensorflow:From C:\\Users\\Owen\\AppData\\Local\\Programs\\Python\\Python311\\Lib\\site-packages\\keras\\src\\utils\\tf_utils.py:492: The name tf.ragged.RaggedTensorValue is deprecated. Please use tf.compat.v1.ragged.RaggedTensorValue instead.\n",
      "\n",
      "WARNING:tensorflow:From C:\\Users\\Owen\\AppData\\Local\\Programs\\Python\\Python311\\Lib\\site-packages\\keras\\src\\engine\\base_layer_utils.py:384: The name tf.executing_eagerly_outside_functions is deprecated. Please use tf.compat.v1.executing_eagerly_outside_functions instead.\n",
      "\n",
      "47904/47904 [==============================] - 84s 2ms/step - loss: 0.2067 - accuracy: 0.4009\n",
      "Epoch 2/10\n",
      "47904/47904 [==============================] - 82s 2ms/step - loss: 0.2031 - accuracy: 0.4081\n",
      "Epoch 3/10\n",
      "47904/47904 [==============================] - 82s 2ms/step - loss: 0.2023 - accuracy: 0.4097\n",
      "Epoch 4/10\n",
      "47904/47904 [==============================] - 82s 2ms/step - loss: 0.2017 - accuracy: 0.4116\n",
      "Epoch 5/10\n",
      "47904/47904 [==============================] - 82s 2ms/step - loss: 0.2013 - accuracy: 0.4122\n",
      "Epoch 6/10\n",
      "47904/47904 [==============================] - 82s 2ms/step - loss: 0.2010 - accuracy: 0.4132\n",
      "Epoch 7/10\n",
      "47904/47904 [==============================] - 82s 2ms/step - loss: 0.2009 - accuracy: 0.4138\n",
      "Epoch 8/10\n",
      "47904/47904 [==============================] - 82s 2ms/step - loss: 0.2007 - accuracy: 0.4140\n",
      "Epoch 9/10\n",
      "47904/47904 [==============================] - 82s 2ms/step - loss: 0.2006 - accuracy: 0.4142\n",
      "Epoch 10/10\n",
      "47904/47904 [==============================] - 87s 2ms/step - loss: 0.2004 - accuracy: 0.4148\n",
      "Epoch 1/10\n",
      "47904/47904 [==============================] - 85s 2ms/step - loss: 0.2003 - accuracy: 0.4150\n",
      "Epoch 2/10\n",
      "47904/47904 [==============================] - 84s 2ms/step - loss: 0.2003 - accuracy: 0.4149\n",
      "Epoch 3/10\n",
      "47904/47904 [==============================] - 83s 2ms/step - loss: 0.2002 - accuracy: 0.4149\n",
      "Epoch 4/10\n",
      "47904/47904 [==============================] - 82s 2ms/step - loss: 0.2002 - accuracy: 0.4151\n",
      "Epoch 5/10\n",
      "47904/47904 [==============================] - 82s 2ms/step - loss: 0.2001 - accuracy: 0.4153\n",
      "Epoch 6/10\n",
      "47904/47904 [==============================] - 83s 2ms/step - loss: 0.2001 - accuracy: 0.4153\n",
      "Epoch 7/10\n",
      "47904/47904 [==============================] - 82s 2ms/step - loss: 0.2000 - accuracy: 0.4153\n",
      "Epoch 8/10\n",
      "47904/47904 [==============================] - 82s 2ms/step - loss: 0.2000 - accuracy: 0.4152\n",
      "Epoch 9/10\n",
      "47904/47904 [==============================] - 82s 2ms/step - loss: 0.1999 - accuracy: 0.4158\n",
      "Epoch 10/10\n",
      "47904/47904 [==============================] - 81s 2ms/step - loss: 0.1998 - accuracy: 0.4155\n"
     ]
    }
   ],
   "source": [
    "grade_histories = []\n",
    "for holdout in range(2):\n",
    "    model = model\n",
    "    grade_histories.append(model.fit(X_train_scaled, y_train, epochs=10))\n",
    "\n",
    "plot_history(\n",
    "    grade_histories,\n",
    "    show_standard_deviation=False,\n",
    "    show_average=True\n",
    ")\n",
    "plt.close()"
   ]
  },
  {
   "cell_type": "markdown",
   "id": "00dc88d5-9d33-439d-a24b-17c0d6cd093b",
   "metadata": {},
   "source": [
    "# Predicting Interest Rate"
   ]
  },
  {
   "cell_type": "code",
   "execution_count": 17,
   "id": "c0d82aa0-d762-4d2e-a6de-f97c090e9cd9",
   "metadata": {},
   "outputs": [],
   "source": [
    "y = loan_df[['int_rate']] # in double brackets for y scaling testing\n",
    "# X = loan_df[['home_ownership', 'annual_inc', 'loan_amnt', 'term', 'dti', 'mort_acc', 'open_acc',\n",
    "#              'emp_length', 'tot_cur_bal', 'revol_util', 'acc_now_delinq']]\n",
    "\n",
    "X = loan_df[['annual_inc', 'dti', 'loan_amnt', 'term', 'revol_util', 'acc_now_delinq', 'loan_status', 'emp_length', 'total_il_high_credit_limit', \n",
    "            'pub_rec_bankruptcies', 'tot_cur_bal', 'mort_acc', 'num_accts_ever_120_pd', 'pct_tl_nvr_dlq', 'purpose', \n",
    "            'tot_hi_cred_lim', 'home_ownership']]\n",
    "\n",
    "# \n",
    "\n",
    "# 'term' has a significant impact on r2"
   ]
  },
  {
   "cell_type": "code",
   "execution_count": 18,
   "id": "804964b4-a1f2-4959-be23-1ab0d20973df",
   "metadata": {},
   "outputs": [],
   "source": [
    "# drop rows with null values in each column\n",
    "\n",
    "# get column names from X\n",
    "column_names = X.columns\n",
    "\n",
    "# loop through X to drop the rows that have nulls and apply the same drops to y\n",
    "for column in column_names:\n",
    "    # temp list to hold index values that have nulls in each column\n",
    "    null_list = list(X.query(f'{column} != {column}').index)\n",
    "    # drop from X\n",
    "    X = X.dropna(axis='index', subset=[f'{column}'])\n",
    "    # drop from y\n",
    "    y = y.drop(index=null_list)"
   ]
  },
  {
   "cell_type": "code",
   "execution_count": 19,
   "id": "565ecd64-28da-48cc-8ee4-b5882f90b7ad",
   "metadata": {},
   "outputs": [],
   "source": [
    "X = pd.get_dummies(X)\n",
    "X_train, X_test, y_train, y_test = train_test_split(X, y, random_state=1)"
   ]
  },
  {
   "cell_type": "code",
   "execution_count": 20,
   "id": "915a90e6-8edb-434e-8a15-f28716b61ad5",
   "metadata": {},
   "outputs": [],
   "source": [
    "# standardize the data\n",
    "\n",
    "scaler = StandardScaler()\n",
    "\n",
    "X_scaled = scaler.fit(X_train)\n",
    "\n",
    "X_train_scaled = X_scaled.transform(X_train)\n",
    "X_test_scaled = X_scaled.transform(X_test)\n",
    "\n",
    "# testing scaling y\n",
    "y_scaled = scaler.fit(y_train)\n",
    "y_train_scaled = y_scaled.transform(y_train)\n",
    "y_test_scaled = y_scaled.transform(y_test)"
   ]
  },
  {
   "cell_type": "code",
   "execution_count": 21,
   "id": "f871e6dc-7d60-4a73-9ce7-43c9e504212a",
   "metadata": {},
   "outputs": [],
   "source": [
    "interest_model = tf.keras.models.Sequential()\n",
    "interest_model.add(tf.keras.layers.Dense(units=50, input_dim=52, activation='relu'))\n",
    "interest_model.add(tf.keras.layers.Dense(units=25, activation='relu'))\n",
    "#interest_model.add(tf.keras.layers.Dense(units=125, activation='sigmoid'))\n",
    "interest_model.add(tf.keras.layers.Dense(units=1, activation='linear'))"
   ]
  },
  {
   "cell_type": "code",
   "execution_count": 22,
   "id": "4fb02cf5-b554-4131-aa97-fc86868a6c03",
   "metadata": {},
   "outputs": [
    {
     "name": "stdout",
     "output_type": "stream",
     "text": [
      "Epoch 1/10\n",
      "47901/47901 [==============================] - 46s 946us/step - loss: 0.6440 - r2_score: 0.3560\n",
      "Epoch 2/10\n",
      "47901/47901 [==============================] - 45s 940us/step - loss: 0.6200 - r2_score: 0.3800\n",
      "Epoch 3/10\n",
      "47901/47901 [==============================] - 45s 943us/step - loss: 0.6136 - r2_score: 0.3864\n",
      "Epoch 4/10\n",
      "47901/47901 [==============================] - 45s 941us/step - loss: 0.6099 - r2_score: 0.3901\n",
      "Epoch 5/10\n",
      "47901/47901 [==============================] - 45s 943us/step - loss: 0.6085 - r2_score: 0.3915\n",
      "Epoch 6/10\n",
      "47901/47901 [==============================] - 45s 946us/step - loss: 0.6080 - r2_score: 0.3920\n",
      "Epoch 7/10\n",
      "47901/47901 [==============================] - 45s 947us/step - loss: 0.6079 - r2_score: 0.3921\n",
      "Epoch 8/10\n",
      "47901/47901 [==============================] - 47s 981us/step - loss: 0.6046 - r2_score: 0.3954\n",
      "Epoch 9/10\n",
      "47901/47901 [==============================] - 47s 978us/step - loss: 0.6052 - r2_score: 0.3948\n",
      "Epoch 10/10\n",
      "47901/47901 [==============================] - 46s 966us/step - loss: 0.6031 - r2_score: 0.3969\n"
     ]
    }
   ],
   "source": [
    "# train the model and check accuracy\n",
    "interest_model.compile(loss='mean_squared_error', optimizer='adam', metrics=['R2Score'])\n",
    "\n",
    "history = interest_model.fit(X_train_scaled, y_train_scaled, epochs=10)"
   ]
  },
  {
   "cell_type": "code",
   "execution_count": 23,
   "id": "ee584186-25fe-4a93-95b5-48fa7b0ee583",
   "metadata": {},
   "outputs": [
    {
     "data": {
      "image/png": "[encoded data removed]",
      "text/plain": [
       "<Figure size 1000x500 with 2 Axes>"
      ]
     },
     "metadata": {},
     "output_type": "display_data"
    }
   ],
   "source": [
    "show_history(history) # single_graphs=True\n",
    "plt.close()"
   ]
  },
  {
   "cell_type": "code",
   "execution_count": 24,
   "id": "c68d1a1e-597c-468e-a842-f5f8a8ee7cad",
   "metadata": {},
   "outputs": [
    {
     "name": "stdout",
     "output_type": "stream",
     "text": [
      "Epoch 1/10\n",
      "47901/47901 [==============================] - 45s 932us/step - loss: 15.0261 - r2_score: 0.3620\n",
      "Epoch 2/10\n",
      "47901/47901 [==============================] - 44s 916us/step - loss: 14.3399 - r2_score: 0.3911\n",
      "Epoch 3/10\n",
      "47901/47901 [==============================] - 42s 879us/step - loss: 14.2664 - r2_score: 0.3943\n",
      "Epoch 4/10\n",
      "47901/47901 [==============================] - 41s 853us/step - loss: 14.2414 - r2_score: 0.3953\n",
      "Epoch 5/10\n",
      "47901/47901 [==============================] - 41s 853us/step - loss: 14.1935 - r2_score: 0.3973\n",
      "Epoch 6/10\n",
      "47901/47901 [==============================] - 40s 841us/step - loss: 14.2187 - r2_score: 0.3962\n",
      "Epoch 7/10\n",
      "47901/47901 [==============================] - 40s 835us/step - loss: 14.1827 - r2_score: 0.3979\n",
      "Epoch 8/10\n",
      "47901/47901 [==============================] - 41s 862us/step - loss: 14.1463 - r2_score: 0.3993\n",
      "Epoch 9/10\n",
      "47901/47901 [==============================] - 44s 922us/step - loss: 14.1432 - r2_score: 0.3995\n",
      "Epoch 10/10\n",
      "47901/47901 [==============================] - 41s 864us/step - loss: 14.1368 - r2_score: 0.3997\n",
      "Epoch 1/10\n",
      "47901/47901 [==============================] - 40s 838us/step - loss: 14.1134 - r2_score: 0.4007\n",
      "Epoch 2/10\n",
      "47901/47901 [==============================] - 42s 881us/step - loss: 14.0971 - r2_score: 0.4014\n",
      "Epoch 3/10\n",
      "47901/47901 [==============================] - 44s 913us/step - loss: 14.0842 - r2_score: 0.4020\n",
      "Epoch 4/10\n",
      "47901/47901 [==============================] - 43s 901us/step - loss: 14.0788 - r2_score: 0.4022\n",
      "Epoch 5/10\n",
      "47901/47901 [==============================] - 44s 918us/step - loss: 14.1214 - r2_score: 0.4005\n",
      "Epoch 6/10\n",
      "47901/47901 [==============================] - 44s 909us/step - loss: 14.0664 - r2_score: 0.4027\n",
      "Epoch 7/10\n",
      "47901/47901 [==============================] - 44s 915us/step - loss: 14.0779 - r2_score: 0.4022\n",
      "Epoch 8/10\n",
      "47901/47901 [==============================] - 43s 898us/step - loss: 14.1016 - r2_score: 0.4012\n",
      "Epoch 9/10\n",
      "47901/47901 [==============================] - 44s 908us/step - loss: 14.0538 - r2_score: 0.4033\n",
      "Epoch 10/10\n",
      "47901/47901 [==============================] - 43s 900us/step - loss: 14.0609 - r2_score: 0.4030\n"
     ]
    }
   ],
   "source": [
    "interest_histories = []\n",
    "for holdout in range(2):\n",
    "    model = interest_model\n",
    "    interest_histories.append(model.fit(X_train_scaled, y_train, epochs=10))\n",
    "\n",
    "plot_history(\n",
    "    interest_histories,\n",
    "    show_standard_deviation=False,\n",
    "    show_average=True\n",
    ")\n",
    "plt.close()"
   ]
  },
  {
   "cell_type": "code",
   "execution_count": null,
   "id": "b8b9da6a-9da5-4f67-bb19-65c476353883",
   "metadata": {},
   "outputs": [],
   "source": []
  }
 ],
 "metadata": {
  "kernelspec": {
   "display_name": "Python 3 (ipykernel)",
   "language": "python",
   "name": "python3"
  },
  "language_info": {
   "codemirror_mode": {
    "name": "ipython",
    "version": 3
   },
   "file_extension": ".py",
   "mimetype": "text/x-python",
   "name": "python",
   "nbconvert_exporter": "python",
   "pygments_lexer": "ipython3",
   "version": "3.11.5"
  }
 },
 "nbformat": 4,
 "nbformat_minor": 5
}
